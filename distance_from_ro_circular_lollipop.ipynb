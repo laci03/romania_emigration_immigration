{
 "cells": [
  {
   "cell_type": "code",
   "execution_count": null,
   "id": "f9493542",
   "metadata": {
    "extensions": {
     "jupyter_dashboards": {
      "activeView": "grid_default",
      "version": 1,
      "views": {
       "grid_default": {
        "hidden": true
       }
      }
     }
    },
    "tags": []
   },
   "outputs": [],
   "source": [
    "import pandas as pd\n",
    "\n",
    "import matplotlib.pyplot as plt\n",
    "\n",
    "import numpy as np\n",
    "import folium"
   ]
  },
  {
   "cell_type": "markdown",
   "id": "dff5466d",
   "metadata": {
    "extensions": {
     "jupyter_dashboards": {
      "activeView": "grid_default",
      "version": 1,
      "views": {
       "grid_default": {
        "col": 0,
        "height": 2,
        "row": 3,
        "width": 12
       }
      }
     }
    }
   },
   "source": [
    "gps points taken from here: https://www.kaggle.com/datasets/nikitagrec/world-capitals-gps"
   ]
  },
  {
   "cell_type": "code",
   "execution_count": null,
   "id": "c928f5f6",
   "metadata": {
    "extensions": {
     "jupyter_dashboards": {
      "activeView": "grid_default",
      "version": 1,
      "views": {
       "grid_default": {
        "hidden": true
       }
      }
     }
    }
   },
   "outputs": [],
   "source": [
    "df_path = 'immigrants_emigrants.ods'\n",
    "df = pd.read_excel(df_path, engine = 'odf', index_col=0)\n",
    "df.drop_duplicates('country', inplace=True)"
   ]
  },
  {
   "cell_type": "code",
   "execution_count": null,
   "id": "9410412a",
   "metadata": {
    "extensions": {
     "jupyter_dashboards": {
      "activeView": "grid_default",
      "version": 1,
      "views": {
       "grid_default": {
        "hidden": true
       }
      }
     }
    }
   },
   "outputs": [],
   "source": [
    "df = df[df['country']!='Other countries'][['country', 'aerial_distance', 'angle', 'lat', 'lon']]"
   ]
  },
  {
   "cell_type": "code",
   "execution_count": null,
   "id": "2d3b715d",
   "metadata": {
    "extensions": {
     "jupyter_dashboards": {
      "activeView": "grid_default",
      "version": 1,
      "views": {
       "grid_default": {
        "hidden": true
       }
      }
     }
    }
   },
   "outputs": [],
   "source": [
    "df.sort_values('angle', inplace=True)\n",
    "df.reset_index(drop=True, inplace=True)\n",
    "df"
   ]
  },
  {
   "cell_type": "code",
   "execution_count": null,
   "id": "20e7c6bb",
   "metadata": {
    "extensions": {
     "jupyter_dashboards": {
      "activeView": "grid_default",
      "version": 1,
      "views": {
       "grid_default": {
        "hidden": true
       }
      }
     }
    }
   },
   "outputs": [],
   "source": [
    "AD_MAX = df['aerial_distance'].max()\n",
    "AD_MIN = df['aerial_distance'].min()\n",
    "\n",
    "# 'low' and 'high' refer to the final dot size.\n",
    "def scale_to_interval(x, low=1, high=60):\n",
    "    return ((x - AD_MIN) / (AD_MAX - AD_MIN)) * (high - low) + low"
   ]
  },
  {
   "cell_type": "code",
   "execution_count": null,
   "id": "08336744",
   "metadata": {
    "extensions": {
     "jupyter_dashboards": {
      "activeView": "grid_default",
      "version": 1,
      "views": {
       "grid_default": {
        "hidden": true
       }
      }
     }
    }
   },
   "outputs": [],
   "source": [
    "# vivid #E58606,#5D69B1,#52BCA3,#99C945,#CC61B0,#24796C,#DAA51B,#2F8AC4,#764E9F,#ED645A,#CC3A8E,#A5AA99\n",
    "# https://carto.com/carto-colors/\n",
    "\n",
    "# colors = \"#E58606\",\"#5D69B1\",\"#52BCA3\",\"#99C945\",\"#CC61B0\",\"#24796C\",\"#DAA51B\",\"#2F8AC4\",\"#764E9F\",\"#ED645A\",\"#CC3A8E\",\"#A5AA99\",\"#88CCEE\",\"#DDCC77\",\"#117733\",\"#332288\"\n",
    "\n",
    "# colors_dict = dict(zip(df['country'], colors))\n",
    "\n",
    "colors_dict = {'Ukraine': '#E58606',\n",
    "             'Moldova': '#5D69B1',\n",
    "             'Greece': '#52BCA3',\n",
    "             'Slovakia': '#99C945',\n",
    "             'Romania': '#A5AA99',\n",
    "             'Hungary': '#24796C',\n",
    "             'Spain': '#DAA51B',\n",
    "             'Israel': '#2F8AC4',\n",
    "             'Italy': '#764E9F',\n",
    "             'France': '#ED645A',\n",
    "             'Canada': '#CC3A8E',\n",
    "             'Australia': '#CC61B0',\n",
    "             'Germany': '#88CCEE',\n",
    "             'Austria': '#DDCC77',\n",
    "             'Sweden': '#117733',\n",
    "             'United States': '#332288',\n",
    "             'Switzerland': '#661100',\n",
    "             'Other countries': '#f97b72'}"
   ]
  },
  {
   "cell_type": "code",
   "execution_count": null,
   "id": "bf7773db",
   "metadata": {
    "extensions": {
     "jupyter_dashboards": {
      "activeView": "grid_default",
      "version": 1,
      "views": {
       "grid_default": {
        "hidden": true
       }
      }
     }
    }
   },
   "outputs": [],
   "source": [
    "# Different sHades of grey used in the plot\n",
    "GREY88 = \"#e0e0e0\"\n",
    "GREY85 = \"#d9d9d9\"\n",
    "GREY82 = \"#d1d1d1\"\n",
    "GREY79 = \"#c9c9c9\"\n",
    "GREY97 = \"#f7f7f7\"\n",
    "GREY60 = \"#999999\"\n",
    "\n",
    "# Values for the x axis\n",
    "angles = np.linspace(0, 2 * np.pi, len(df['country']), endpoint=False)\n",
    "\n",
    "# Heights of the lines and y-position of the dot are given by the times.\n",
    "heights = np.array(df['aerial_distance'])\n",
    "\n",
    "# This is going to be helpful to create some space for labels within the circle \n",
    "# Don't worry if it doesn't make much sense yet, you're going to see it in action below\n",
    "plus = 10\n",
    "\n",
    "colors = [colors_dict[country] for country in df['country']]"
   ]
  },
  {
   "cell_type": "code",
   "execution_count": null,
   "id": "bdea0811",
   "metadata": {
    "extensions": {
     "jupyter_dashboards": {
      "activeView": "grid_default",
      "version": 1,
      "views": {
       "grid_default": {
        "hidden": true
       }
      }
     }
    }
   },
   "outputs": [],
   "source": [
    "# Create a data frame with the information for the four passwords that are going to be labeled\n",
    "labels_df = df.reset_index()\n",
    "\n",
    "labels_df[\"label\"] = [\n",
    "    f\"{country}\\naerial distance: {int(aerial_distance)} km\" \n",
    "    for country, aerial_distance in zip(labels_df[\"country\"], labels_df[\"aerial_distance\"])\n",
    "]"
   ]
  },
  {
   "cell_type": "code",
   "execution_count": null,
   "id": "d9a541d6",
   "metadata": {
    "extensions": {
     "jupyter_dashboards": {
      "activeView": "grid_default",
      "version": 1,
      "views": {
       "grid_default": {
        "col": 0,
        "height": 22,
        "row": 22,
        "width": 6
       }
      }
     }
    }
   },
   "outputs": [],
   "source": [
    "# Initialize layout in polar coordinates\n",
    "fig, ax = plt.subplots(figsize=(12, 12), subplot_kw={\"projection\": \"polar\"})\n",
    "\n",
    "# Set background color to white, both axis and figure.\n",
    "fig.patch.set_facecolor(\"white\")\n",
    "ax.set_facecolor(\"white\")\n",
    "\n",
    "# Use logarithmic scale for the radial axis\n",
    "ax.set_rscale('symlog')\n",
    "\n",
    "# Angular axis starts at 90 degrees, not at 0\n",
    "ax.set_theta_offset(np.pi/6)\n",
    "\n",
    "# Reverse the direction to go counter-clockwise.\n",
    "ax.set_theta_direction(-1)\n",
    "\n",
    "# Add lines\n",
    "ln2 = ax.vlines(angles, 0+plus, heights+plus, color=colors, lw=4)\n",
    "# # Add dots\n",
    "# ax.scatter(angles, heights+plus, s=heights,color=colors);\n",
    "\n",
    "# Start by removing spines for both axes\n",
    "ax.spines[\"start\"].set_color(\"none\")\n",
    "ax.spines[\"polar\"].set_color(\"none\")\n",
    "\n",
    "# Remove grid lines, ticks, and tick labels.\n",
    "ax.grid(False)\n",
    "ax.set_xticks([])\n",
    "ytick = ax.get_yticklabels()\n",
    "ytick[0].set_visible(False)\n",
    "# ax.set_yticklabels(ax.get_yticklabels()[1:])\n",
    "\n",
    "# Add our custom grid lines for the radial axis.\n",
    "# These lines indicate one day, one week, one month and one year.\n",
    "HANGLES = np.linspace(0, 2 * np.pi, 200)\n",
    "ax.plot(HANGLES, np.repeat(plus, 200), color = GREY88, lw=0.7)\n",
    "ax.plot(HANGLES, np.repeat(plus*10, 200), color= GREY85, lw=0.7)\n",
    "\n",
    "ax.plot(HANGLES, np.repeat(plus*100, 200), color= GREY82, lw=0.7)\n",
    "ax.plot(HANGLES, np.repeat(plus*1000, 200), color= GREY79, lw=0.7)\n",
    "# Add labels for the four selected passwords, which are the most complicated\n",
    "# passwords to crack.\n",
    "for idx, row in df.iterrows():\n",
    "    color = colors[idx]\n",
    "    \n",
    "    ha = 'center'\n",
    "    va = 'top'\n",
    "    \n",
    "    if idx <= 2:\n",
    "        ha = 'left'\n",
    "        va = 'center'\n",
    "    elif idx>=4 and idx < 10:\n",
    "        ha = 'center'\n",
    "        va = 'top'\n",
    "#     elif idx<=6:\n",
    "#         ha = 'center'\n",
    "#         va = 'top'\n",
    "#     elif idx<\n",
    "    elif idx >= 10:\n",
    "        ha = 'center'\n",
    "        va = 'bottom'\n",
    "    ax.text(\n",
    "        x=angles[idx], y=row[\"aerial_distance\"], s=\"{}\\n{} km\".format(row['country'], round(row['aerial_distance'])), color=color,\n",
    "        ha=ha, va=va, ma=\"center\", size=12, weight=\"bold\"\n",
    "    )\n",
    "    \n",
    "# If you have a look at the beginning of this post, you'll see the inner circle is not white.\n",
    "# This fill creates the effect of a very light grey background.\n",
    "ax.fill(HANGLES, np.repeat(plus, 200), GREY97)\n",
    "\n",
    "# Note the 'transform=ax.transAxes'\n",
    "# It allows us to pass 'x' and 'y' in terms of the (0, 1) coordinates of the axis\n",
    "# instead of having to use the coordinates of the data.\n",
    "# (0.5, 0.5) represents the middle of the axis in this transformed coordinate system\n",
    "ax.text(\n",
    "    x=0.5, y=0.58, s=\"Aerial\\ndistance\\nin km from\\nRomania\",\n",
    "    color=GREY60, va=\"center\", ha=\"center\", ma=\"center\",\n",
    "    fontsize=20, fontweight=\"bold\", linespacing=1, transform=ax.transAxes\n",
    ")\n",
    "\n",
    "ax.text(\n",
    "    x=0.5, y=0.46, s=\"The distances\\nare calculated\\nbetween Bucharest\\n and each other\\ncapital\",\n",
    "    color=GREY60, va=\"center\", ha=\"center\",  ma=\"center\",\n",
    "    fontsize=16, linespacing=1, transform=ax.transAxes\n",
    ")\n",
    "ax.set_rlabel_position(350)"
   ]
  },
  {
   "cell_type": "code",
   "execution_count": null,
   "id": "e74461e7",
   "metadata": {},
   "outputs": [],
   "source": [
    "lollipop_fig = fig"
   ]
  },
  {
   "cell_type": "markdown",
   "id": "68e837eb",
   "metadata": {},
   "source": [
    "### map"
   ]
  },
  {
   "cell_type": "code",
   "execution_count": null,
   "id": "653a090a",
   "metadata": {},
   "outputs": [],
   "source": [
    "map_figure = folium.Figure(width=1446, height=680)\n",
    "\n",
    "romania_lat, romania_lon = (44.43333333333333, 26.1)\n",
    "# avg_lat = df['lat'].mean()\n",
    "# avg_lon = df['lon'].mean()\n",
    "\n",
    "avg_lat, avg_lon = 19.936156, 38.837438 #47.43791981903297, 6.0519186953450195\n",
    "map_plot = folium.Map(location=[avg_lat, avg_lon], tiles=\"OpenStreetMap\", zoom_start=3)\n",
    "\n",
    "for idx, row in df.iterrows():\n",
    "    points = ((romania_lat, romania_lon), (row['lat'], row['lon']))\n",
    "    folium.PolyLine(points, color=colors_dict[row['country']], weight=4).add_to(map_plot)\n",
    "    \n",
    "    folium.Marker((row['lat'], row['lon'])).add_to(map_plot)\n",
    "\n",
    "map_plot.add_to(map_figure)"
   ]
  },
  {
   "cell_type": "code",
   "execution_count": null,
   "id": "433947be",
   "metadata": {
    "extensions": {
     "jupyter_dashboards": {
      "activeView": "grid_default",
      "version": 1,
      "views": {
       "grid_default": {
        "hidden": true
       }
      }
     }
    }
   },
   "outputs": [],
   "source": [
    "# OUTER = \"#ffffff\"\n",
    "\n",
    "# # Initialize layout in polar coordinates\n",
    "# fig, ax = plt.subplots(figsize=(12, 12), subplot_kw={\"projection\": \"polar\"})\n",
    "\n",
    "# # Set background color to white, both axis and figure.\n",
    "# fig.patch.set_facecolor(\"white\")\n",
    "# ax.set_facecolor(\"white\")\n",
    "\n",
    "# # Use logarithmic scale for the radial axis\n",
    "# ax.set_rscale('symlog')\n",
    "\n",
    "# # Angular axis starts at 90 degrees, not at 0\n",
    "# ax.set_theta_offset(np.pi/6)\n",
    "\n",
    "# # Reverse the direction to go counter-clockwise.\n",
    "# ax.set_theta_direction(-1)\n",
    "\n",
    "# # Add lines\n",
    "# ln2 = ax.vlines(angles, 0+plus, heights+plus, color=colors, lw=4)\n",
    "# # # Add dots\n",
    "# ax.scatter(angles, heights+plus, s=heights,color=colors);\n",
    "\n",
    "# # Start by removing spines for both axes\n",
    "# ax.spines[\"start\"].set_color(\"none\")\n",
    "# ax.spines[\"polar\"].set_color(\"none\")\n",
    "\n",
    "# # Remove grid lines, ticks, and tick labels.\n",
    "# ax.grid(False)\n",
    "# ax.set_xticks([])\n",
    "# ytick = ax.get_yticklabels()\n",
    "# ytick[0].set_visible(False)\n",
    "# # ax.set_yticklabels(ax.get_yticklabels()[1:])\n",
    "\n",
    "# # Add our custom grid lines for the radial axis.\n",
    "# # These lines indicate one day, one week, one month and one year.\n",
    "# HANGLES = np.linspace(0, 2 * np.pi, 200)\n",
    "# # ax.plot(HANGLES, np.repeat(plus, 200), color = GREY88, lw=0.7)\n",
    "# # ax.plot(HANGLES, np.repeat(plus*10, 200), color= GREY85, lw=0.7)\n",
    "\n",
    "# # ax.plot(HANGLES, np.repeat(plus*100, 200), color= GREY82, lw=0.7)\n",
    "# # ax.plot(HANGLES, np.repeat(plus*1000, 200), color= GREY79, lw=0.7)\n",
    "# # ax.plot(HANGLES, np.repeat(plus*10000, 200), color= GREY79, lw=0.7)\n",
    "# ax.plot(HANGLES, np.repeat(plus*100000, 200), color= OUTER, lw=0.7)\n",
    "# # Add labels for the four selected passwords, which are the most complicated\n",
    "# # passwords to crack.\n",
    "# for idx, row in df.iterrows():\n",
    "#     color = colors[idx]\n",
    "    \n",
    "#     ha = 'center'\n",
    "#     va = 'top'\n",
    "    \n",
    "#     if idx <= 2:\n",
    "#         ha = 'left'\n",
    "#         va = 'center'\n",
    "#     elif idx>=4 and idx < 10:\n",
    "#         ha = 'center'\n",
    "#         va = 'top'\n",
    "# #     elif idx<=6:\n",
    "# #         ha = 'center'\n",
    "# #         va = 'top'\n",
    "# #     elif idx<\n",
    "#     elif idx >= 10:\n",
    "#         ha = 'center'\n",
    "#         va = 'bottom'\n",
    "#     ax.text(\n",
    "#         x=angles[idx], y=row[\"aerial_distance\"], s=\"{}\\n{} km\".format(row['country'], round(row['aerial_distance'])), color=color,\n",
    "#         ha=ha, va=va, ma=\"center\", size=10, weight=\"bold\"\n",
    "#     )\n",
    "    \n",
    "# # If you have a look at the beginning of this post, you'll see the inner circle is not white.\n",
    "# # This fill creates the effect of a very light grey background.\n",
    "# ax.fill(HANGLES, np.repeat(plus, 200), GREY97)\n",
    "\n",
    "# # Note the 'transform=ax.transAxes'\n",
    "# # It allows us to pass 'x' and 'y' in terms of the (0, 1) coordinates of the axis\n",
    "# # instead of having to use the coordinates of the data.\n",
    "# # (0.5, 0.5) represents the middle of the axis in this transformed coordinate system\n",
    "# ax.text(\n",
    "#     x=0.5, y=0.58, s=\"Aerial\\ndistance\\nfrom Romania\",\n",
    "#     color=GREY60, va=\"center\", ha=\"center\", ma=\"center\",\n",
    "#     fontsize=14, fontweight=\"bold\", linespacing=1, transform=ax.transAxes\n",
    "# )\n",
    "\n",
    "# ax.text(\n",
    "#     x=0.5, y=0.46, s=\"The distances\\nare calculated\\nbetween Bucharest\\n and each other\\ncapital\",\n",
    "#     color=GREY60, va=\"center\", ha=\"center\",  ma=\"center\",\n",
    "#     fontsize=10, linespacing=1, transform=ax.transAxes\n",
    "# )\n",
    "# ax.set_rlabel_position(350)"
   ]
  }
 ],
 "metadata": {
  "extensions": {
   "jupyter_dashboards": {
    "activeView": "grid_default",
    "version": 1,
    "views": {
     "grid_default": {
      "cellMargin": 2,
      "defaultCellHeight": 40,
      "maxColumns": 12,
      "name": "grid",
      "type": "grid"
     }
    }
   }
  },
  "kernelspec": {
   "display_name": "Python 3 (ipykernel)",
   "language": "python",
   "name": "python3"
  },
  "language_info": {
   "codemirror_mode": {
    "name": "ipython",
    "version": 3
   },
   "file_extension": ".py",
   "mimetype": "text/x-python",
   "name": "python",
   "nbconvert_exporter": "python",
   "pygments_lexer": "ipython3",
   "version": "3.10.6"
  }
 },
 "nbformat": 4,
 "nbformat_minor": 5
}
