{
 "cells": [
  {
   "cell_type": "code",
   "execution_count": null,
   "id": "32bb2d4d",
   "metadata": {
    "extensions": {
     "jupyter_dashboards": {
      "version": 1,
      "views": {
       "default_view": {
        "hidden": true
       }
      }
     }
    }
   },
   "outputs": [],
   "source": [
    "import pandas as pd\n",
    "\n",
    "import matplotlib.pyplot as plt\n",
    "\n",
    "import numpy as np"
   ]
  },
  {
   "cell_type": "code",
   "execution_count": null,
   "id": "891585dd",
   "metadata": {
    "extensions": {
     "jupyter_dashboards": {
      "version": 1,
      "views": {
       "default_view": {
        "hidden": true
       }
      }
     }
    }
   },
   "outputs": [],
   "source": [
    "colors_dict = {'Ukraine': '#E58606',\n",
    "             'Moldova': '#5D69B1',\n",
    "             'Greece': '#52BCA3',\n",
    "             'Slovakia': '#99C945',\n",
    "             'Romania': '#A5AA99',\n",
    "             'Hungary': '#24796C',\n",
    "             'Spain': '#DAA51B',\n",
    "             'Israel': '#2F8AC4',\n",
    "             'Italy': '#764E9F',\n",
    "             'France': '#ED645A',\n",
    "             'Canada': '#CC3A8E',\n",
    "             'Australia': '#CC61B0',\n",
    "             'Germany': '#88CCEE',\n",
    "             'Austria': '#DDCC77',\n",
    "             'Sweden': '#117733',\n",
    "             'United States': '#332288',\n",
    "             'Switzerland': '#661100',\n",
    "             'Other countries': '#f97b72'}"
   ]
  },
  {
   "cell_type": "code",
   "execution_count": null,
   "id": "7f0d5cc4",
   "metadata": {
    "extensions": {
     "jupyter_dashboards": {
      "version": 1,
      "views": {
       "default_view": {
        "hidden": true
       }
      }
     }
    }
   },
   "outputs": [],
   "source": [
    "df_path = 'immigrants_emigrants.ods'\n",
    "df = pd.read_excel(df_path, engine = 'odf', index_col=0)"
   ]
  },
  {
   "cell_type": "code",
   "execution_count": null,
   "id": "4660d71c",
   "metadata": {
    "extensions": {
     "jupyter_dashboards": {
      "version": 1,
      "views": {
       "default_view": {
        "col": 0,
        "height": 2,
        "row": 6,
        "width": 12
       }
      }
     }
    }
   },
   "outputs": [],
   "source": [
    "df"
   ]
  },
  {
   "cell_type": "markdown",
   "id": "d42ca194",
   "metadata": {
    "extensions": {
     "jupyter_dashboards": {
      "version": 1,
      "views": {
       "default_view": {
        "col": 0,
        "height": 2,
        "row": 8,
        "width": 12
       }
      }
     }
    }
   },
   "source": [
    "### Per country"
   ]
  },
  {
   "cell_type": "code",
   "execution_count": null,
   "id": "6d3bfbf9",
   "metadata": {
    "extensions": {
     "jupyter_dashboards": {
      "version": 1,
      "views": {
       "default_view": {
        "col": 0,
        "height": 2,
        "row": 10,
        "width": 12
       }
      }
     }
    }
   },
   "outputs": [],
   "source": [
    "emigrants_df = df.loc[df['data_type'] == 'emigrants', :].copy()\n",
    "\n",
    "emigrants_df['total'] = emigrants_df.loc[:, '1990':'2021'].sum(axis=1)\n",
    "emigrants_df.sort_values('total', ascending=False, inplace=True)\n",
    "\n",
    "emigrants_df.head()"
   ]
  },
  {
   "cell_type": "code",
   "execution_count": null,
   "id": "3ff8bcfd",
   "metadata": {
    "extensions": {
     "jupyter_dashboards": {
      "version": 1,
      "views": {
       "default_view": {
        "col": 0,
        "height": 2,
        "row": 12,
        "width": 12
       }
      }
     }
    }
   },
   "outputs": [],
   "source": [
    "immigrants_df = df.loc[df['data_type'] == 'immigrants', :].copy()\n",
    "\n",
    "immigrants_df['total'] = immigrants_df.loc[:, '1990':'2021'].sum(axis=1)\n",
    "immigrants_df.sort_values('total', ascending=False, inplace=True)\n",
    "\n",
    "immigrants_df"
   ]
  },
  {
   "cell_type": "code",
   "execution_count": null,
   "id": "4d8a24a2",
   "metadata": {
    "extensions": {
     "jupyter_dashboards": {
      "version": 1,
      "views": {
       "default_view": {
        "col": 0,
        "height": 2,
        "row": 14,
        "width": 12
       }
      }
     }
    }
   },
   "outputs": [],
   "source": [
    "fig, ax = plt.subplots(figsize=(10, 10))\n",
    "emigrants_df.plot.bar(y='total', x='country', ax=ax, label='')\n",
    "\n",
    "ax.get_legend().remove()\n",
    "ax.axes.get_xaxis().set_label_text('')\n",
    "plt.xticks(rotation = 90, ha='center');\n",
    "\n",
    "def add_stars(df, x):\n",
    "    if df['country'].iloc[x] == 'Other countries':\n",
    "        return '**'\n",
    "    \n",
    "    if len(df.iloc[x, :].dropna()) != len(df.iloc[x, :]):\n",
    "        return '*'\n",
    "    return ''\n",
    "\n",
    "ax.annotate(\"\", xy=(10.5, 82000), xytext=(12, 12000),\n",
    "            arrowprops=dict(arrowstyle=']-, widthA=8.5, lengthA=1, angleA=343.3', color='g', lw=2))\n",
    "\n",
    "# ax.arrow(x=10.5, y=80000, dx=12, dy=10000,style=']-', color='r')\n",
    "ax.set_yticklabels(['{:,}'.format(int(x)) for x in ax.get_yticks().tolist()])\n",
    "ax.set_xticklabels(['{}{}'.format(emigrants_df['country'].iloc[x], add_stars(emigrants_df, x)) for x in ax.get_xticks().tolist()])\n",
    "ax.set_ylabel('# people', fontsize=12)\n",
    "\n",
    "# this is an inset axes over the main axes\n",
    "# emigrants_df.iloc[-5:, :].plot.bar(y='total', x='country', ax=ax, label='')\n",
    "# emigrants_df.iloc[-5:, :].axes.bar(y='total', x='country')\n",
    "l, b, h, w = .45, .50, .3, .45\n",
    "ax2 = fig.add_axes([l, b, w, h])\n",
    "emigrants_df.iloc[-5:, :].plot.bar(y='total', x='country', ax=ax2, label='')\n",
    "ax2.get_legend().remove()\n",
    "ax2.axes.get_xaxis().set_label_text('')\n",
    "ax2.set_yticklabels(['{:,}'.format(int(x)) for x in ax2.get_yticks().tolist()])\n",
    "ax2.set_xticklabels(['{}{}'.format(emigrants_df.iloc[-5:, :]['country'].iloc[x], add_stars(emigrants_df.iloc[-5:, :], x)) for x in ax2.get_xticks().tolist()])\n",
    "plt.xticks(rotation = 90, ha='center');\n",
    "ax2.set_ylabel('# people', fontsize=12)\n",
    "\n",
    "# plt.title('Close up')\n",
    "ax.spines.right.set_visible(False)\n",
    "ax.spines.top.set_visible(False)\n",
    "\n",
    "ax2.spines.right.set_visible(False)\n",
    "ax2.spines.top.set_visible(False)\n",
    "\n",
    "ax.annotate(xy=(12, 8000), xytext=(5,100), textcoords='offset points', text='* do not have data\\nstarting from 1990\\n\\n** does not have\\nadditional info\\nabout the exact\\ndestination', va='center', color='black', fontsize=10)\n",
    "\n",
    "# plt.xticks([])\n",
    "# plt.yticks([])\n",
    "\n",
    "ax.set_title('Emigration from Romania between 1990-2021 based on destination', fontsize=16)"
   ]
  },
  {
   "cell_type": "code",
   "execution_count": null,
   "id": "5fcf24af",
   "metadata": {
    "extensions": {
     "jupyter_dashboards": {
      "version": 1,
      "views": {
       "default_view": {
        "hidden": true
       }
      }
     }
    }
   },
   "outputs": [],
   "source": [
    "emigrants_per_country_plot = fig"
   ]
  },
  {
   "cell_type": "code",
   "execution_count": null,
   "id": "3452ec0b",
   "metadata": {
    "extensions": {
     "jupyter_dashboards": {
      "version": 1,
      "views": {
       "default_view": {
        "col": 0,
        "height": 2,
        "row": 18,
        "width": 12
       }
      }
     }
    }
   },
   "outputs": [],
   "source": [
    "fig, ax = plt.subplots(figsize=(10, 10))\n",
    "immigrants_df.plot.bar(y='total', x='country', ax=ax, label='')\n",
    "\n",
    "ax.get_legend().remove()\n",
    "ax.axes.get_xaxis().set_label_text('')\n",
    "plt.xticks(rotation = 90, ha='center')\n",
    "\n",
    "ax.annotate(\"\", xy=(6.5, 82000), xytext=(6.5, 29000),\n",
    "            arrowprops=dict(arrowstyle=']-, widthA=19, lengthA=1, angleA=0', color='g', lw=2))\n",
    "\n",
    "\n",
    "def add_stars(df, x):\n",
    "    if df['country'].iloc[x] == 'Other countries':\n",
    "        return '**'\n",
    "    \n",
    "    if len(df.loc[:, '1994': '2021'].iloc[x, :].dropna()) != len(df.loc[:, '1994': '2021'].iloc[x, :]):\n",
    "        return '*'\n",
    "    return ''\n",
    "\n",
    "ax.set_yticklabels(['{:,}'.format(int(x)) for x in ax.get_yticks().tolist()])\n",
    "ax.set_xticklabels(['{}{}'.format(immigrants_df['country'].iloc[x], add_stars(immigrants_df, x)) for x in ax.get_xticks().tolist()])\n",
    "\n",
    "l, b, h, w = .37, .40, .35, .55\n",
    "ax2 = fig.add_axes([l, b, w, h])\n",
    "immigrants_df.iloc[-8:, :].plot.bar(y='total', x='country', ax=ax2, label='')\n",
    "\n",
    "ax2.get_legend().remove()\n",
    "ax2.axes.get_xaxis().set_label_text('')\n",
    "ax2.set_yticklabels(['{:,}'.format(int(x)) for x in ax2.get_yticks().tolist()])\n",
    "ax2.set_xticklabels(['{}{}'.format(immigrants_df.iloc[-8:, :]['country'].iloc[x], add_stars(immigrants_df.iloc[-8:, :], x)) for x in ax2.get_xticks().tolist()])\n",
    "plt.xticks(rotation = 90, ha='center');\n",
    "\n",
    "\n",
    "# plt.title('Close up')\n",
    "ax.spines.right.set_visible(False)\n",
    "ax.spines.top.set_visible(False)\n",
    "ax.set_ylabel('# people', fontsize=12)\n",
    "\n",
    "ax2.spines.right.set_visible(False)\n",
    "ax2.spines.top.set_visible(False)\n",
    "ax2.set_ylabel('# people', fontsize=12)\n",
    "\n",
    "ax.annotate(xy=(8.5, 8000), xytext=(5,90), textcoords='offset points', text='** does not have\\nadditional info\\nabout the exact\\norigin', va='center', color='black', fontsize=10);\n",
    "\n",
    "\n",
    "ax.set_title('Immigration to Romania between 1994-2021 based on origin', fontsize=16, pad=14)"
   ]
  },
  {
   "cell_type": "code",
   "execution_count": null,
   "id": "12097bd6",
   "metadata": {
    "extensions": {
     "jupyter_dashboards": {
      "version": 1,
      "views": {
       "default_view": {
        "hidden": true
       }
      }
     }
    }
   },
   "outputs": [],
   "source": [
    "immigrants_per_country_plot = fig"
   ]
  },
  {
   "cell_type": "markdown",
   "id": "ce410262-27d9-4077-ba9a-fc0f36d7131c",
   "metadata": {
    "extensions": {
     "jupyter_dashboards": {
      "version": 1,
      "views": {
       "default_view": {
        "col": 0,
        "height": 2,
        "row": 22,
        "width": 12
       }
      }
     }
    }
   },
   "source": [
    "### Top 5 and last 5 years that people emigrated/immigrated most"
   ]
  },
  {
   "cell_type": "code",
   "execution_count": null,
   "id": "50aa8960-a919-4c23-ad7c-c283cecee45e",
   "metadata": {
    "extensions": {
     "jupyter_dashboards": {
      "version": 1,
      "views": {
       "default_view": {
        "hidden": true
       }
      }
     }
    }
   },
   "outputs": [],
   "source": [
    "emigrants_series = emigrants_df.loc[:, '1990':'2021'].sum().sort_values(ascending=False)\n",
    "immigrants_series = immigrants_df.loc[:, '1994':'2021'].sum().sort_values(ascending=False)"
   ]
  },
  {
   "cell_type": "code",
   "execution_count": null,
   "id": "91105218-9d17-401d-9c83-45062733b648",
   "metadata": {
    "extensions": {
     "jupyter_dashboards": {
      "version": 1,
      "views": {
       "default_view": {
        "col": 0,
        "height": 2,
        "row": 26,
        "width": 12
       }
      }
     }
    }
   },
   "outputs": [],
   "source": [
    "fig, ax = plt.subplots(1, 2, figsize=(12, 4))\n",
    "top_n = 5\n",
    "emigrants_series.iloc[:top_n].plot.bar(ax=ax[0], label='')\n",
    "\n",
    "ax[0].set_yticklabels(['{:,}'.format(int(x)) for x in ax[0].get_yticks().tolist()]);\n",
    "\n",
    "ax[0].spines.right.set_visible(False)\n",
    "ax[0].spines.top.set_visible(False);\n",
    "ax[0].set_ylabel('# people', fontsize=12)\n",
    "\n",
    "# ax[0].axes.get_xaxis().set_label_text('')\n",
    "# plt.xticks(rotation = 90, ha='center');\n",
    "ax[0].tick_params(labelrotation=0)\n",
    "\n",
    "emigrants_series.iloc[-top_n:].plot.bar(ax=ax[1], label='')\n",
    "ax[1].set_yticklabels(['{:,}'.format(int(x)) for x in ax[1].get_yticks().tolist()]);\n",
    "\n",
    "ax[1].spines.right.set_visible(False)\n",
    "ax[1].spines.top.set_visible(False);\n",
    "ax[1].tick_params(labelrotation=0)\n",
    "ax[1].set_ylabel('# people', fontsize=12)\n",
    "\n",
    "fig.suptitle('Top and last 5 years that people emigrated most', fontsize=16, y=0.9856)"
   ]
  },
  {
   "cell_type": "code",
   "execution_count": null,
   "id": "e091d34a",
   "metadata": {
    "extensions": {
     "jupyter_dashboards": {
      "version": 1,
      "views": {
       "default_view": {
        "hidden": true
       }
      }
     }
    }
   },
   "outputs": [],
   "source": [
    "emigrants_top_bottom_5_plot = fig"
   ]
  },
  {
   "cell_type": "code",
   "execution_count": null,
   "id": "e577c63e",
   "metadata": {
    "extensions": {
     "jupyter_dashboards": {
      "version": 1,
      "views": {
       "default_view": {
        "col": 0,
        "height": 2,
        "row": 30,
        "width": 12
       }
      }
     }
    }
   },
   "outputs": [],
   "source": [
    "fig, ax = plt.subplots(1, 2, figsize=(12, 4))\n",
    "top_n = 5\n",
    "immigrants_series.iloc[:top_n].plot.bar(ax=ax[0], label='')\n",
    "\n",
    "ax[0].set_yticklabels(['{:,}'.format(int(x)) for x in ax[0].get_yticks().tolist()]);\n",
    "\n",
    "ax[0].spines.right.set_visible(False)\n",
    "ax[0].spines.top.set_visible(False);\n",
    "ax[0].set_ylabel('# people', fontsize=12)\n",
    "\n",
    "# ax[0].axes.get_xaxis().set_label_text('')\n",
    "# plt.xticks(rotation = 90, ha='center');\n",
    "ax[0].tick_params(labelrotation=0)\n",
    "\n",
    "immigrants_series.iloc[-top_n:].plot.bar(ax=ax[1], label='')\n",
    "ax[1].set_yticklabels(['{:,}'.format(int(x)) for x in ax[1].get_yticks().tolist()]);\n",
    "\n",
    "ax[1].spines.right.set_visible(False)\n",
    "ax[1].spines.top.set_visible(False);\n",
    "ax[1].tick_params(labelrotation=0)\n",
    "ax[1].set_ylabel('# people', fontsize=12)\n",
    "\n",
    "fig.suptitle('Top and last 5 years that people immigrated most', fontsize=16)"
   ]
  },
  {
   "cell_type": "code",
   "execution_count": null,
   "id": "ed7f559a",
   "metadata": {
    "extensions": {
     "jupyter_dashboards": {
      "version": 1,
      "views": {
       "default_view": {
        "hidden": true
       }
      }
     }
    }
   },
   "outputs": [],
   "source": [
    "immigrants_top_bottom_5_plot = fig"
   ]
  },
  {
   "cell_type": "markdown",
   "id": "21ec3f1b-0f5e-402d-83fe-b39c0b515c43",
   "metadata": {
    "extensions": {
     "jupyter_dashboards": {
      "version": 1,
      "views": {
       "default_view": {
        "col": 0,
        "height": 2,
        "row": 34,
        "width": 12
       }
      }
     }
    }
   },
   "source": [
    "### Total number of emigrants/immigrants"
   ]
  },
  {
   "cell_type": "code",
   "execution_count": null,
   "id": "5c9df02c",
   "metadata": {
    "extensions": {
     "jupyter_dashboards": {
      "version": 1,
      "views": {
       "default_view": {
        "hidden": true
       }
      }
     }
    }
   },
   "outputs": [],
   "source": [
    "total_emigrants = emigrants_df.loc[:, '1990':'2021'].sum().sum()"
   ]
  },
  {
   "cell_type": "code",
   "execution_count": null,
   "id": "23cbf5c4",
   "metadata": {
    "extensions": {
     "jupyter_dashboards": {
      "version": 1,
      "views": {
       "default_view": {
        "hidden": true
       }
      }
     }
    }
   },
   "outputs": [],
   "source": [
    "total_immigrants = immigrants_df.loc[:, '1990':'2021'].sum().sum()"
   ]
  },
  {
   "cell_type": "code",
   "execution_count": null,
   "id": "c8c27586",
   "metadata": {
    "extensions": {
     "jupyter_dashboards": {
      "version": 1,
      "views": {
       "default_view": {
        "col": 0,
        "height": 2,
        "row": 40,
        "width": 12
       }
      }
     }
    }
   },
   "outputs": [],
   "source": [
    "total_emigrants"
   ]
  },
  {
   "cell_type": "code",
   "execution_count": null,
   "id": "e2fe0f1b",
   "metadata": {
    "extensions": {
     "jupyter_dashboards": {
      "version": 1,
      "views": {
       "default_view": {
        "col": 0,
        "height": 2,
        "row": 42,
        "width": 12
       }
      }
     }
    }
   },
   "outputs": [],
   "source": [
    "total_immigrants"
   ]
  },
  {
   "cell_type": "markdown",
   "id": "7c34f188-9113-4f50-9184-415477cb628c",
   "metadata": {
    "extensions": {
     "jupyter_dashboards": {
      "version": 1,
      "views": {
       "default_view": {
        "col": 0,
        "height": 2,
        "row": 44,
        "width": 12
       }
      }
     }
    }
   },
   "source": [
    "### Line plot over years"
   ]
  },
  {
   "cell_type": "code",
   "execution_count": null,
   "id": "607df024",
   "metadata": {
    "extensions": {
     "jupyter_dashboards": {
      "version": 1,
      "views": {
       "default_view": {
        "col": 0,
        "height": 2,
        "row": 46,
        "width": 12
       }
      }
     }
    }
   },
   "outputs": [],
   "source": [
    "fig, ax = plt.subplots(4, 4, figsize=(14, 14))\n",
    "fig.tight_layout(pad=5.0)\n",
    "\n",
    "fig.text(0.5, 0.01, 'years', ha='center', fontsize=16)\n",
    "fig.text(0.01, 0.5, '# people', va='center', rotation='vertical', fontsize=16)\n",
    "\n",
    "for i, country in enumerate(list(emigrants_df['country'])):\n",
    "    row = emigrants_df[emigrants_df['country'] ==  country]#.dropna(axis=1)\n",
    "\n",
    "    \n",
    "    from_column = [x for x, y in zip(row.iloc[:, 1:].columns, row.iloc[:, 1:].isnull().values[0]) if not y][0]\n",
    "    to_column = '2021'\n",
    "    \n",
    "    max_no_emigrants = row.loc[:, from_column:to_column].fillna(0).values.max()\n",
    "    \n",
    "    idx = int(i/4)\n",
    "    jdx = i % 4 \n",
    "    ax[idx, jdx].set_ylim([0, max_no_emigrants + max_no_emigrants * 0.05])\n",
    "\n",
    "    labels = list(row.loc[:,from_column:to_column].columns)\n",
    "\n",
    "    color = colors_dict.get(country, colors_dict['Romania']) \n",
    "    \n",
    "    row.loc[:, from_column:to_column].T.plot.line(ax=ax[idx, jdx], label=country, linewidth=3, color=color, solid_capstyle='round')\n",
    "\n",
    "#     ax[idx, jdx].set_xlim(left = 0)\n",
    "\n",
    "    ax[idx, jdx].set_yticklabels(['{:,}'.format(int(x)) for x in ax[idx, jdx].get_yticks().tolist()])\n",
    "\n",
    "    # Hide the right and top spines\n",
    "    ax[idx, jdx].spines.right.set_visible(False)\n",
    "    ax[idx, jdx].spines.top.set_visible(False)\n",
    "\n",
    "    text = '{}{}'.format(country, '' if from_column == '1990' else '*')\n",
    "    ax[idx, jdx].set_title(text)\n",
    "\n",
    "    ax[idx, jdx].get_legend().remove()\n",
    "\n",
    "\n",
    "fig.delaxes(ax[-1, -1])\n",
    "# ax.annotate(xy=(27, 8000), xytext=(0,0), textcoords='offset points', text='* do not have data\\nstarting from 1990', va='center', color='black', fontsize=18)\n",
    "fig.text(0.85, 0.15, '* do not have data\\nstarting from 1990', ha='center', fontsize=12)\n",
    "\n",
    "fig.suptitle('Emigration over time between 1990-2021 per country', fontsize=20, y=1)"
   ]
  },
  {
   "cell_type": "code",
   "execution_count": null,
   "id": "2179bffb",
   "metadata": {
    "extensions": {
     "jupyter_dashboards": {
      "version": 1,
      "views": {
       "default_view": {
        "hidden": true
       }
      }
     }
    }
   },
   "outputs": [],
   "source": [
    "emigrants_line_plot = fig"
   ]
  },
  {
   "cell_type": "code",
   "execution_count": null,
   "id": "c7bb6be4",
   "metadata": {
    "extensions": {
     "jupyter_dashboards": {
      "version": 1,
      "views": {
       "default_view": {
        "col": 0,
        "height": 2,
        "row": 50,
        "width": 12
       }
      }
     }
    }
   },
   "outputs": [],
   "source": [
    "fig, ax = plt.subplots(3, 4, figsize=(14, 14))\n",
    "fig.tight_layout(pad=5.0)\n",
    "fig.text(0.5, 0.01, 'years', ha='center', fontsize=16)\n",
    "fig.text(0.01, 0.5, '# people', va='center', rotation='vertical', fontsize=16)\n",
    "\n",
    "for i, country in enumerate(list(immigrants_df['country'])):\n",
    "    row = immigrants_df[immigrants_df['country'] ==  country]#.dropna(axis=1)\n",
    "\n",
    "    \n",
    "    from_column = [x for x, y in zip(row.iloc[:, 1:].columns, row.iloc[:, 1:].isnull().values[0]) if not y][0]\n",
    "    to_column = '2021'\n",
    "    \n",
    "    max_no_immigrants = row.loc[:, from_column:to_column].fillna(0).values.max()\n",
    "    \n",
    "    idx = int(i/4)\n",
    "    jdx = i % 4 \n",
    "    ax[idx, jdx].set_ylim([0, max_no_immigrants + max_no_immigrants * 0.05])\n",
    "\n",
    "    labels = list(row.loc[:,from_column:to_column].columns)\n",
    "\n",
    "    color = colors_dict.get(country, colors_dict['Romania']) \n",
    "\n",
    "    row.loc[:, from_column:to_column].T.plot.line(ax=ax[idx, jdx], label=country, linewidth=3, color=color, solid_capstyle='round')\n",
    "\n",
    "#     ax[idx, jdx].set_xlim(left = 0)\n",
    "\n",
    "    ax[idx, jdx].set_yticklabels(['{:,}'.format(int(x)) for x in ax[idx, jdx].get_yticks().tolist()])\n",
    "\n",
    "    # Hide the right and top spines\n",
    "    ax[idx, jdx].spines.right.set_visible(False)\n",
    "    ax[idx, jdx].spines.top.set_visible(False)\n",
    "\n",
    "    ax[idx, jdx].set_title(country)\n",
    "\n",
    "    ax[idx, jdx].get_legend().remove()\n",
    "\n",
    "\n",
    "fig.delaxes(ax[-1, -1])\n",
    "\n",
    "\n",
    "fig.suptitle('Immigration over time between 1994-2021 per country', fontsize=20, y=1)"
   ]
  },
  {
   "cell_type": "code",
   "execution_count": null,
   "id": "5eb09de3",
   "metadata": {
    "extensions": {
     "jupyter_dashboards": {
      "version": 1,
      "views": {
       "default_view": {
        "hidden": true
       }
      }
     }
    }
   },
   "outputs": [],
   "source": [
    "immigrants_line_plot = fig"
   ]
  },
  {
   "cell_type": "markdown",
   "id": "f9dbe598",
   "metadata": {
    "extensions": {
     "jupyter_dashboards": {
      "version": 1,
      "views": {
       "default_view": {
        "col": 0,
        "height": 2,
        "row": 54,
        "width": 12
       }
      }
     }
    }
   },
   "source": [
    "### Emigration and Immigration over time"
   ]
  },
  {
   "cell_type": "code",
   "execution_count": null,
   "id": "d044fd65",
   "metadata": {
    "extensions": {
     "jupyter_dashboards": {
      "version": 1,
      "views": {
       "default_view": {
        "col": 0,
        "height": 2,
        "row": 56,
        "width": 12
       }
      }
     }
    }
   },
   "outputs": [],
   "source": [
    "fig, ax = plt.subplots(figsize=(13, 5))\n",
    "\n",
    "emigrants_sum = emigrants_df.loc[:, '1990':'2021'].sum()\n",
    "emigrants_sum.plot(lw=3, color='#DC3535')\n",
    "x = len(emigrants_df.loc[:, '1990':'2021'].columns) - 1\n",
    "y = emigrants_sum[-1]\n",
    "ax.annotate(xy=(x, y), xytext=(5,0), textcoords='offset points', text='Emigrants*', va='center', weight='bold', fontsize=10, color=ax.get_lines()[-1].get_color())\n",
    "\n",
    "immigrants_sum = immigrants_df.loc[:, '1990':'2021'].sum(min_count=1)\n",
    "immigrants_sum.plot(lw=3, color='#54B435')\n",
    "\n",
    "x = len(immigrants_df.loc[:, '1990':'2021'].columns) - 1\n",
    "y = immigrants_sum[-1]\n",
    "ax.annotate(xy=(x, y), xytext=(5,0), textcoords='offset points', text='Immigrants', va='center', weight='bold', fontsize=10, color=ax.get_lines()[-1].get_color())\n",
    "\n",
    "\n",
    "ax.set_xlim(left = 0)\n",
    "\n",
    "ax.set_yticklabels(['{:,}'.format(int(x)) for x in ax.get_yticks().tolist()]);\n",
    "\n",
    "ax.set_ylabel('# people', fontsize=12)\n",
    "ax.set_xlabel('years', fontsize=12)\n",
    "\n",
    "ax.spines.right.set_visible(False)\n",
    "ax.spines.top.set_visible(False);\n",
    "# plt.xticks(fontsize=20);\n",
    "# plt.yticks(fontsize=20);\n",
    "\n",
    "ax.annotate(xy=(27, 8000), xytext=(0,0), textcoords='offset points', text='* do not have data\\nstarting from 1990', va='center', color='black', fontsize=10)\n",
    "\n",
    "\n",
    "ax.set_title('Emigration and Immigration over time between 1990-2021', fontsize=16, pad=20)"
   ]
  },
  {
   "cell_type": "code",
   "execution_count": null,
   "id": "b03afad9",
   "metadata": {
    "extensions": {
     "jupyter_dashboards": {
      "version": 1,
      "views": {
       "default_view": {
        "hidden": true
       }
      }
     }
    }
   },
   "outputs": [],
   "source": [
    "emigrants_immigrants_line_plot = fig"
   ]
  },
  {
   "cell_type": "code",
   "execution_count": null,
   "id": "2d9b2253",
   "metadata": {
    "extensions": {
     "jupyter_dashboards": {
      "version": 1,
      "views": {
       "default_view": {
        "hidden": true
       }
      }
     }
    }
   },
   "outputs": [],
   "source": [
    "# emigrants_per_country_plot\n",
    "# immigrants_per_country_plot\n",
    "# emigrants_top_bottom_5_plot\n",
    "# immigrants_top_bottom_5_plot\n",
    "# emigrants_line_plot\n",
    "# immigrants_line_plot\n",
    "\n",
    "# emigrants_immigrants_line_plot"
   ]
  },
  {
   "cell_type": "markdown",
   "id": "bd9721c6",
   "metadata": {
    "extensions": {
     "jupyter_dashboards": {
      "version": 1,
      "views": {
       "default_view": {
        "col": 0,
        "height": 2,
        "row": 62,
        "width": 12
       }
      }
     }
    }
   },
   "source": [
    "### useless code"
   ]
  },
  {
   "cell_type": "markdown",
   "id": "8e3bdf2b",
   "metadata": {
    "extensions": {
     "jupyter_dashboards": {
      "version": 1,
      "views": {
       "default_view": {
        "col": 0,
        "height": 2,
        "row": 64,
        "width": 12
       }
      }
     }
    }
   },
   "source": [
    "### Box plot"
   ]
  },
  {
   "cell_type": "code",
   "execution_count": null,
   "id": "52d7fa5c",
   "metadata": {
    "extensions": {
     "jupyter_dashboards": {
      "version": 1,
      "views": {
       "default_view": {
        "hidden": true
       }
      }
     }
    }
   },
   "outputs": [],
   "source": [
    "# fig, ax = plt.subplots(figsize=(8, 8))\n",
    "\n",
    "# for position, (idx, row) in enumerate(emigrants_df.iterrows()):\n",
    "#     ax.boxplot(list(row['1990':'2021'].fillna(0)), positions=[position])\n",
    "#     # break\n",
    "\n",
    "# # ax.set_xticks(range(position+1))\n",
    "# ax.set_xticklabels(emigrants_df['country']);\n",
    "# plt.xticks(rotation = 90, ha='center');\n"
   ]
  },
  {
   "cell_type": "code",
   "execution_count": null,
   "id": "633f45f3",
   "metadata": {
    "extensions": {
     "jupyter_dashboards": {
      "version": 1,
      "views": {
       "default_view": {
        "hidden": true
       }
      }
     }
    }
   },
   "outputs": [],
   "source": [
    "# # vivid #E58606,#5D69B1,#52BCA3,#99C945,#CC61B0,#24796C,#DAA51B,#2F8AC4,#764E9F,#ED645A,#CC3A8E,#A5AA99\n",
    "# # https://carto.com/carto-colors/\n",
    "\n",
    "# colors = \"#E58606\",\"#5D69B1\",\"#52BCA3\",\"#99C945\",\"#CC61B0\",\"#24796C\",\"#DAA51B\",\"#2F8AC4\",\"#764E9F\",\"#ED645A\",\"#CC3A8E\",\"#A5AA99\",\"#88CCEE\",\"#DDCC77\",\"#117733\",\"#332288\"\n",
    "\n",
    "# colors_dict = dict(zip(emigrants_df['country'], colors))\n",
    "\n",
    "# fig, ax = plt.subplots(figsize=(10, 10))\n",
    "\n",
    "# from_column = '1990'\n",
    "# to_column = '2021'\n",
    "\n",
    "# max_no_emigrants = emigrants_df.loc[:, from_column:to_column].fillna(0).values.max()\n",
    "# plt.ylim([0, max_no_emigrants + max_no_emigrants * 0.05])\n",
    "\n",
    "# labels = list(emigrants_df.loc[:,from_column:to_column].columns)\n",
    "\n",
    "# for idx, row in emigrants_df.iterrows():\n",
    "#     color = colors_dict[row[0]]\n",
    "#     row[from_column:to_column].plot.line(ax=ax, label=row[0], linewidth=3, color=color, solid_capstyle='round')\n",
    "    \n",
    "#     x = len(labels) - 1\n",
    "#     y = row[from_column:to_column].dropna().iloc[-1]\n",
    "# #     if row[0] == 'Sweden':\n",
    "# #         y += 1300\n",
    "# #     elif row[0] == 'Austria':\n",
    "# #         y += 500\n",
    "# #     elif row[0] == 'Germany':\n",
    "# #         y -=400\n",
    "        \n",
    "#     if len(row[from_column:to_column].dropna()) != len(row[from_column:to_column]):\n",
    "#         text = '{}*'.format(row[0])\n",
    "#     else:\n",
    "#         text = row[0]\n",
    "#     ax.annotate(xy=(x, y), xytext=(5,0), textcoords='offset points', text=text, va='center', color=color, weight='bold', fontsize=10)\n",
    "\n",
    "# # ax.annotate(xy=(24, 2000), xytext=(5,0), textcoords='offset points', text='* do not have data starting from 1990', va='center', color='black', fontsize=10)\n",
    "\n",
    "# ax.set_xticks(ticks=range(len(labels)), labels=labels, rotation=45)\n",
    "\n",
    "# ax.set_xlim(left = 0)\n",
    "\n",
    "# ax.set_yticklabels(['{:,}'.format(int(x)) for x in ax.get_yticks().tolist()])\n",
    "\n",
    "# # Hide the right and top spines\n",
    "# ax.spines.right.set_visible(False)\n",
    "# ax.spines.top.set_visible(False)\n",
    "\n",
    "# plt.locator_params(axis='x', nbins=11);\n",
    "# # plt.title('GDP per capita (current US$) between 1990 and 2021', loc='center', fontdict={'fontsize':20});"
   ]
  }
 ],
 "metadata": {
  "extensions": {
   "jupyter_dashboards": {
    "activeView": "default_view",
    "version": 1,
    "views": {
     "default_view": {
      "cellMargin": 10,
      "defaultCellHeight": 40,
      "maxColumns": 12,
      "name": "active_view",
      "type": "grid"
     }
    }
   }
  },
  "kernelspec": {
   "display_name": "Python 3 (ipykernel)",
   "language": "python",
   "name": "python3"
  },
  "language_info": {
   "codemirror_mode": {
    "name": "ipython",
    "version": 3
   },
   "file_extension": ".py",
   "mimetype": "text/x-python",
   "name": "python",
   "nbconvert_exporter": "python",
   "pygments_lexer": "ipython3",
   "version": "3.10.6"
  }
 },
 "nbformat": 4,
 "nbformat_minor": 5
}
