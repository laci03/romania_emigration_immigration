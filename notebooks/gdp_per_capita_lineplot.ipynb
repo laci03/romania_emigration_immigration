{
 "cells": [
  {
   "cell_type": "code",
   "execution_count": null,
   "id": "347f021c",
   "metadata": {},
   "outputs": [],
   "source": [
    "import pandas as pd\n",
    "\n",
    "import matplotlib.pyplot as plt\n",
    "\n",
    "import numpy as np"
   ]
  },
  {
   "cell_type": "markdown",
   "id": "ccc3d064",
   "metadata": {},
   "source": [
    "data source: https://data.worldbank.org/indicator/NY.GDP.PCAP.CD"
   ]
  },
  {
   "cell_type": "code",
   "execution_count": null,
   "id": "c4ad57b8",
   "metadata": {},
   "outputs": [],
   "source": [
    "gdp_per_capita_path = '/home/laci/Documents/egyetem/1_ev/1_felev/adat_viz/project/dataset/GDP_PCAP.ods'"
   ]
  },
  {
   "cell_type": "code",
   "execution_count": null,
   "id": "7719feda",
   "metadata": {},
   "outputs": [],
   "source": [
    "gdp_df = pd.read_excel(gdp_per_capita_path, engine = 'odf')"
   ]
  },
  {
   "cell_type": "code",
   "execution_count": null,
   "id": "cf05d19f",
   "metadata": {},
   "outputs": [],
   "source": [
    "gdp_df"
   ]
  },
  {
   "cell_type": "code",
   "execution_count": null,
   "id": "afbbc5f2",
   "metadata": {},
   "outputs": [],
   "source": [
    "# vivid #E58606,#5D69B1,#52BCA3,#99C945,#CC61B0,#24796C,#DAA51B,#2F8AC4,#764E9F,#ED645A,#CC3A8E,#A5AA99\n",
    "# https://carto.com/carto-colors/\n",
    "\n",
    "colors = \"#E58606\",\"#5D69B1\",\"#52BCA3\",\"#99C945\",\"#CC61B0\",\"#24796C\",\"#DAA51B\",\"#2F8AC4\",\"#764E9F\",\"#ED645A\",\"#CC3A8E\",\"#A5AA99\",\"#88CCEE\",\"#DDCC77\",\"#117733\",\"#332288\",\"#661100\"\n",
    "\n",
    "# colors_dict = dict(zip(gdp_df['country'], colors))\n",
    "colors_dict = dict(zip(gdp_df[['country', '2021']].sort_values('2021')['country'], colors))"
   ]
  },
  {
   "cell_type": "code",
   "execution_count": null,
   "id": "b86839d7",
   "metadata": {},
   "outputs": [],
   "source": [
    "aux = colors_dict['Romania'] \n",
    "colors_dict['Romania'] = colors_dict['Australia']\n",
    "colors_dict['Australia'] = aux\n",
    "colors_dict['Other countries'] = '#f97b72'"
   ]
  },
  {
   "cell_type": "code",
   "execution_count": null,
   "id": "e6c58523",
   "metadata": {},
   "outputs": [],
   "source": [
    "colors_dict"
   ]
  },
  {
   "cell_type": "code",
   "execution_count": null,
   "id": "0cd0d13b",
   "metadata": {},
   "outputs": [],
   "source": [
    "fig, ax = plt.subplots(figsize=(10, 10))\n",
    "\n",
    "max_gdp = gdp_df.iloc[:, 1:].fillna(0).values.max()\n",
    "plt.ylim([0, max_gdp + max_gdp * 0.05])\n",
    "\n",
    "labels = list(gdp_df.columns[1:])\n",
    "\n",
    "for idx, row in gdp_df.iterrows():\n",
    "    color = colors_dict[row[0]]\n",
    "    row[1:].plot.line(ax=ax, label=row[0], linewidth=3, color=color, solid_capstyle='round')\n",
    "    \n",
    "    x = len(labels) - 1\n",
    "    y = row.dropna().iloc[-1]\n",
    "    if row[0] == 'Sweden':\n",
    "        y += 1300\n",
    "    elif row[0] == 'Austria':\n",
    "        y += 500\n",
    "    elif row[0] == 'Germany':\n",
    "        y -=400\n",
    "        \n",
    "    if len(row.dropna()) != len(row):\n",
    "        text = '{}*'.format(row[0])\n",
    "    else:\n",
    "        text = row[0]\n",
    "    ax.annotate(xy=(x, y), xytext=(5,0), textcoords='offset points', text=text, va='center', color=color, weight='bold', fontsize=10)\n",
    "\n",
    "ax.annotate(xy=(24, 2000), xytext=(5,0), textcoords='offset points', text='* do not have data starting from 1990', va='center', color='black', fontsize=10)\n",
    "\n",
    "ax.set_xticks(ticks=range(len(labels)), labels=labels, rotation=0)\n",
    "\n",
    "ax.set_xlim(left = 0)\n",
    "\n",
    "ax.set_yticklabels(['{:,}$'.format(int(x)) for x in ax.get_yticks().tolist()])\n",
    "\n",
    "# Hide the right and top spines\n",
    "ax.spines.right.set_visible(False)\n",
    "ax.spines.top.set_visible(False)\n",
    "\n",
    "plt.locator_params(axis='x', nbins=11);\n",
    "plt.title('GDP per capita (current US$) between 1990 and 2021', loc='center', fontdict={'fontsize':20});"
   ]
  },
  {
   "cell_type": "code",
   "execution_count": null,
   "id": "180bdece",
   "metadata": {},
   "outputs": [],
   "source": [
    "gdp_plot = fig"
   ]
  },
  {
   "cell_type": "code",
   "execution_count": null,
   "id": "7486fc70",
   "metadata": {},
   "outputs": [],
   "source": []
  }
 ],
 "metadata": {
  "kernelspec": {
   "display_name": "Python 3 (ipykernel)",
   "language": "python",
   "name": "python3"
  },
  "language_info": {
   "codemirror_mode": {
    "name": "ipython",
    "version": 3
   },
   "file_extension": ".py",
   "mimetype": "text/x-python",
   "name": "python",
   "nbconvert_exporter": "python",
   "pygments_lexer": "ipython3",
   "version": "3.10.6"
  }
 },
 "nbformat": 4,
 "nbformat_minor": 5
}
