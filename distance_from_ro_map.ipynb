{
 "cells": [
  {
   "cell_type": "code",
   "execution_count": null,
   "id": "9954e8df",
   "metadata": {},
   "outputs": [],
   "source": [
    "# !pip install folium"
   ]
  },
  {
   "cell_type": "code",
   "execution_count": null,
   "id": "b795adb2",
   "metadata": {},
   "outputs": [],
   "source": [
    "import pandas as pd\n",
    "\n",
    "import matplotlib.pyplot as plt\n",
    "\n",
    "import numpy as np\n",
    "import folium"
   ]
  },
  {
   "cell_type": "code",
   "execution_count": null,
   "id": "8f53328b",
   "metadata": {},
   "outputs": [],
   "source": [
    "df_path = 'immigrants_emigrants.ods'\n",
    "df = pd.read_excel(df_path, engine = 'odf', index_col=0)\n",
    "df.drop_duplicates('country', inplace=True)"
   ]
  },
  {
   "cell_type": "code",
   "execution_count": null,
   "id": "a9bf6ab8",
   "metadata": {},
   "outputs": [],
   "source": [
    "df = df[df['country']!='Other countries'][['country', 'aerial_distance', 'angle', 'lat', 'lon']]"
   ]
  },
  {
   "cell_type": "code",
   "execution_count": null,
   "id": "9efa5383",
   "metadata": {},
   "outputs": [],
   "source": [
    "df.sort_values('angle', inplace=True)\n",
    "df.reset_index(drop=True, inplace=True)\n",
    "df"
   ]
  },
  {
   "cell_type": "code",
   "execution_count": null,
   "id": "10d11e69",
   "metadata": {},
   "outputs": [],
   "source": [
    "colors_dict = {'Ukraine': '#E58606',\n",
    "             'Moldova': '#5D69B1',\n",
    "             'Greece': '#52BCA3',\n",
    "             'Slovakia': '#99C945',\n",
    "             'Romania': '#A5AA99',\n",
    "             'Hungary': '#24796C',\n",
    "             'Spain': '#DAA51B',\n",
    "             'Israel': '#2F8AC4',\n",
    "             'Italy': '#764E9F',\n",
    "             'France': '#ED645A',\n",
    "             'Canada': '#CC3A8E',\n",
    "             'Australia': '#CC61B0',\n",
    "             'Germany': '#88CCEE',\n",
    "             'Austria': '#DDCC77',\n",
    "             'Sweden': '#117733',\n",
    "             'United States': '#332288',\n",
    "             'Switzerland': '#661100',\n",
    "             'Other countries': '#f97b72'}"
   ]
  },
  {
   "cell_type": "code",
   "execution_count": null,
   "id": "f8f781c4",
   "metadata": {},
   "outputs": [],
   "source": [
    "map_figure = folium.Figure(width=1735, height=700)\n",
    "romania_lat, romania_lon = (44.43333333333333, 26.1)\n",
    "# avg_lat = df['lat'].mean()\n",
    "# avg_lon = df['lon'].mean()\n",
    "\n",
    "avg_lat, avg_lon = 47.43791981903297, 6.0519186953450195\n",
    "map_plot = folium.Map(location=[avg_lat, avg_lon], tiles=\"OpenStreetMap\", zoom_start=4)\n",
    "\n",
    "for idx, row in df.iterrows():\n",
    "    points = ((romania_lat, romania_lon), (row['lat'], row['lon']))\n",
    "    folium.PolyLine(points, color=colors_dict[row['country']], weight=4).add_to(map_plot)\n",
    "    \n",
    "    folium.Marker((row['lat'], row['lon'])).add_to(map_plot)\n",
    "\n",
    "map_plot.add_to(map_figure)"
   ]
  },
  {
   "cell_type": "code",
   "execution_count": null,
   "id": "a3470e1c",
   "metadata": {},
   "outputs": [],
   "source": []
  }
 ],
 "metadata": {
  "kernelspec": {
   "display_name": "Python 3 (ipykernel)",
   "language": "python",
   "name": "python3"
  },
  "language_info": {
   "codemirror_mode": {
    "name": "ipython",
    "version": 3
   },
   "file_extension": ".py",
   "mimetype": "text/x-python",
   "name": "python",
   "nbconvert_exporter": "python",
   "pygments_lexer": "ipython3",
   "version": "3.10.6"
  }
 },
 "nbformat": 4,
 "nbformat_minor": 5
}
