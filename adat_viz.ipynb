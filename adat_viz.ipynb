{
 "cells": [
  {
   "cell_type": "code",
   "execution_count": null,
   "id": "9d783255",
   "metadata": {
    "extensions": {
     "jupyter_dashboards": {
      "version": 1,
      "views": {
       "default_view": {
        "hidden": true
       }
      }
     }
    }
   },
   "outputs": [],
   "source": [
    "import warnings\n",
    "from IPython.display import Image\n",
    "warnings.filterwarnings('ignore')"
   ]
  },
  {
   "cell_type": "code",
   "execution_count": null,
   "id": "c5b59ccb",
   "metadata": {
    "extensions": {
     "jupyter_dashboards": {
      "version": 1,
      "views": {
       "default_view": {
        "hidden": true
       }
      }
     }
    }
   },
   "outputs": [],
   "source": [
    "%%capture\n",
    "%run distance_from_ro_circular_lollipop.ipynb\n",
    "%run distance_from_ro_map.ipynb\n",
    "%run gdp_per_capita_lineplot.ipynb\n",
    "%run emigrants_immigrants_plots.ipynb"
   ]
  },
  {
   "cell_type": "markdown",
   "id": "51ab04dd",
   "metadata": {
    "extensions": {
     "jupyter_dashboards": {
      "version": 1,
      "views": {
       "default_view": {
        "col": 0,
        "height": 4,
        "row": 0,
        "width": 12
       }
      }
     }
    }
   },
   "source": [
    "beginning text"
   ]
  },
  {
   "cell_type": "code",
   "execution_count": null,
   "id": "9e1440a7",
   "metadata": {
    "extensions": {
     "jupyter_dashboards": {
      "version": 1,
      "views": {
       "default_view": {
        "col": 6,
        "height": 22,
        "row": 4,
        "width": 6
       }
      }
     }
    }
   },
   "outputs": [],
   "source": [
    "lollipop_fig"
   ]
  },
  {
   "cell_type": "code",
   "execution_count": null,
   "id": "f918c2c2",
   "metadata": {
    "extensions": {
     "jupyter_dashboards": {
      "version": 1,
      "views": {
       "default_view": {
        "col": 0,
        "height": 19,
        "row": 26,
        "width": 12
       }
      }
     }
    }
   },
   "outputs": [],
   "source": [
    "map_figure"
   ]
  },
  {
   "cell_type": "code",
   "execution_count": null,
   "id": "1fe4ffcd",
   "metadata": {
    "extensions": {
     "jupyter_dashboards": {
      "version": 1,
      "views": {
       "default_view": {
        "col": 0,
        "height": 22,
        "row": 4,
        "width": 6
       }
      }
     }
    }
   },
   "outputs": [],
   "source": [
    "gdp_plot"
   ]
  },
  {
   "cell_type": "markdown",
   "id": "679a3169",
   "metadata": {
    "extensions": {
     "jupyter_dashboards": {
      "version": 1,
      "views": {
       "default_view": {
        "col": 0,
        "height": 2,
        "row": 45,
        "width": 12
       }
      }
     }
    }
   },
   "source": [
    "Emigrants & immigrants text per country"
   ]
  },
  {
   "cell_type": "code",
   "execution_count": null,
   "id": "635b4448",
   "metadata": {
    "extensions": {
     "jupyter_dashboards": {
      "version": 1,
      "views": {
       "default_view": {
        "col": 0,
        "height": 25,
        "row": 47,
        "width": 6
       }
      }
     }
    }
   },
   "outputs": [],
   "source": [
    "emigrants_per_country_plot"
   ]
  },
  {
   "cell_type": "code",
   "execution_count": null,
   "id": "b7fd7cbd",
   "metadata": {
    "extensions": {
     "jupyter_dashboards": {
      "version": 1,
      "views": {
       "default_view": {
        "col": 6,
        "height": 25,
        "row": 47,
        "width": 6
       }
      }
     }
    }
   },
   "outputs": [],
   "source": [
    "immigrants_per_country_plot"
   ]
  },
  {
   "cell_type": "markdown",
   "id": "8dfd1cf2",
   "metadata": {
    "extensions": {
     "jupyter_dashboards": {
      "version": 1,
      "views": {
       "default_view": {
        "col": 0,
        "height": 6,
        "row": 72,
        "width": 12
       }
      }
     }
    }
   },
   "source": [
    "Top & bottom 5 plot text"
   ]
  },
  {
   "cell_type": "code",
   "execution_count": null,
   "id": "a093c635",
   "metadata": {
    "extensions": {
     "jupyter_dashboards": {
      "version": 1,
      "views": {
       "default_view": {
        "col": 0,
        "height": 10,
        "row": 78,
        "width": 6
       }
      }
     }
    }
   },
   "outputs": [],
   "source": [
    "emigrants_top_bottom_5_plot"
   ]
  },
  {
   "cell_type": "code",
   "execution_count": null,
   "id": "2f28a6db",
   "metadata": {
    "extensions": {
     "jupyter_dashboards": {
      "version": 1,
      "views": {
       "default_view": {
        "col": 6,
        "height": 10,
        "row": 78,
        "width": 6
       }
      }
     }
    }
   },
   "outputs": [],
   "source": [
    "immigrants_top_bottom_5_plot"
   ]
  },
  {
   "cell_type": "markdown",
   "id": "4458d6ec",
   "metadata": {
    "extensions": {
     "jupyter_dashboards": {
      "version": 1,
      "views": {
       "default_view": {
        "col": 0,
        "height": 2,
        "row": 88,
        "width": 12
       }
      }
     }
    }
   },
   "source": [
    "emigrants & immigrants line plot text"
   ]
  },
  {
   "cell_type": "code",
   "execution_count": null,
   "id": "06841525",
   "metadata": {
    "extensions": {
     "jupyter_dashboards": {
      "version": 1,
      "views": {
       "default_view": {
        "col": 0,
        "height": 24,
        "row": 90,
        "width": 6
       }
      }
     }
    }
   },
   "outputs": [],
   "source": [
    "emigrants_line_plot"
   ]
  },
  {
   "cell_type": "code",
   "execution_count": null,
   "id": "7817a97a",
   "metadata": {
    "extensions": {
     "jupyter_dashboards": {
      "version": 1,
      "views": {
       "default_view": {
        "col": 6,
        "height": 24,
        "row": 90,
        "width": 6
       }
      }
     }
    }
   },
   "outputs": [],
   "source": [
    "immigrants_line_plot"
   ]
  },
  {
   "cell_type": "markdown",
   "id": "57dc66b0",
   "metadata": {
    "extensions": {
     "jupyter_dashboards": {
      "version": 1,
      "views": {
       "default_view": {
        "col": 0,
        "height": 2,
        "row": 114,
        "width": 12
       }
      }
     }
    }
   },
   "source": [
    "Again, text"
   ]
  },
  {
   "cell_type": "code",
   "execution_count": null,
   "id": "53aa7608",
   "metadata": {
    "extensions": {
     "jupyter_dashboards": {
      "version": 1,
      "views": {
       "default_view": {
        "col": 0,
        "height": 23,
        "row": 116,
        "width": 12
       }
      }
     }
    }
   },
   "outputs": [],
   "source": [
    "emigrants_immigrants_line_plot"
   ]
  },
  {
   "cell_type": "markdown",
   "id": "27439b9c",
   "metadata": {
    "extensions": {
     "jupyter_dashboards": {
      "version": 1,
      "views": {
       "default_view": {
        "col": 0,
        "height": 2,
        "row": 139,
        "width": 12
       }
      }
     }
    }
   },
   "source": [
    "Emigrants & imigrants race stuff"
   ]
  },
  {
   "cell_type": "code",
   "execution_count": null,
   "id": "0d5f16ce",
   "metadata": {
    "extensions": {
     "jupyter_dashboards": {
      "version": 1,
      "views": {
       "default_view": {
        "col": 6,
        "height": 17,
        "row": 141,
        "width": 6
       }
      }
     }
    }
   },
   "outputs": [],
   "source": [
    "display(Image(filename='immigrants.png'))\n",
    "print('source: https://public.flourish.studio/visualisation/12240571/')"
   ]
  },
  {
   "cell_type": "code",
   "execution_count": null,
   "id": "ff6ec42a",
   "metadata": {
    "extensions": {
     "jupyter_dashboards": {
      "version": 1,
      "views": {
       "default_view": {
        "col": 0,
        "height": 17,
        "row": 141,
        "width": 6
       }
      }
     }
    }
   },
   "outputs": [],
   "source": [
    "display(Image(filename='emigrants.png'))\n",
    "print('source: https://public.flourish.studio/visualisation/12249029/')"
   ]
  },
  {
   "cell_type": "markdown",
   "id": "fb269214",
   "metadata": {
    "extensions": {
     "jupyter_dashboards": {
      "version": 1,
      "views": {
       "default_view": {
        "col": 0,
        "height": 2,
        "row": 158,
        "width": 12
       }
      }
     }
    }
   },
   "source": [
    "more text"
   ]
  },
  {
   "cell_type": "code",
   "execution_count": null,
   "id": "02b3a709",
   "metadata": {
    "extensions": {
     "jupyter_dashboards": {
      "version": 1,
      "views": {
       "default_view": {
        "col": 3,
        "height": 18,
        "row": 160,
        "width": 6
       }
      }
     }
    }
   },
   "outputs": [],
   "source": [
    "display(Image(filename='emigrants_immigrants.png') )\n",
    "print('source: https://public.flourish.studio/visualisation/12173187/')"
   ]
  }
 ],
 "metadata": {
  "extensions": {
   "jupyter_dashboards": {
    "activeView": "default_view",
    "version": 1,
    "views": {
     "default_view": {
      "cellMargin": 10,
      "defaultCellHeight": 40,
      "maxColumns": 12,
      "name": "active_view",
      "type": "grid"
     }
    }
   }
  },
  "kernelspec": {
   "display_name": "Python 3 (ipykernel)",
   "language": "python",
   "name": "python3"
  },
  "language_info": {
   "codemirror_mode": {
    "name": "ipython",
    "version": 3
   },
   "file_extension": ".py",
   "mimetype": "text/x-python",
   "name": "python",
   "nbconvert_exporter": "python",
   "pygments_lexer": "ipython3",
   "version": "3.10.6"
  }
 },
 "nbformat": 4,
 "nbformat_minor": 5
}
