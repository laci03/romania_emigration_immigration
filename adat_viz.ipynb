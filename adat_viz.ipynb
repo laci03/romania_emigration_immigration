{
 "cells": [
  {
   "cell_type": "code",
   "execution_count": null,
   "id": "9d783255",
   "metadata": {
    "extensions": {
     "jupyter_dashboards": {
      "version": 1,
      "views": {
       "default_view": {
        "hidden": true
       }
      }
     }
    }
   },
   "outputs": [],
   "source": [
    "import warnings\n",
    "from IPython.display import Image\n",
    "warnings.filterwarnings('ignore')"
   ]
  },
  {
   "cell_type": "code",
   "execution_count": null,
   "id": "c5b59ccb",
   "metadata": {
    "extensions": {
     "jupyter_dashboards": {
      "version": 1,
      "views": {
       "default_view": {
        "hidden": true
       }
      }
     }
    }
   },
   "outputs": [],
   "source": [
    "%%capture\n",
    "%run distance_from_ro_circular_lollipop.ipynb\n",
    "%run gdp_per_capita_lineplot.ipynb\n",
    "%run emigrants_immigrants_plots.ipynb"
   ]
  },
  {
   "cell_type": "markdown",
   "id": "51ab04dd",
   "metadata": {
    "extensions": {
     "jupyter_dashboards": {
      "version": 1,
      "views": {
       "default_view": {
        "col": 0,
        "height": 10,
        "row": 0,
        "width": 12
       }
      }
     }
    }
   },
   "source": [
    "<div style=\"text-align: justify;line-height:1.25;font-size:15px\">\n",
    "    <h1>International migration of Romania</h1>\n",
    "<p>\n",
    "The purpose of this work is to describe the international migration of Romania, more precisely, the populations emigration between 1990 and 2021 and their immigration between 1994 and 2021.\n",
    "</p>\n",
    "<p>\n",
    "    In our study:  <br>\n",
    "<b>Emigrants</b> =  Romanian citizens who ceases to have their legal residence in Romania and establishes their residence on the territory of another country<br>\n",
    "<b>Immigrants</b> = Romanian citizens who ceases to have their legal residence on the territory of another country and establishes their residence in Romania.\n",
    "</p>\n",
    "<p>\n",
    "    While analyzing the emigrations, our data is grouped by the destination and consists of the following countries: Germany, Italy, United States, Spain, Canada, Hungary, Austria, France, Israel, Sweden, Greece, Australia, Switzerland and Slovakia. All the data for which we don’t know the destination is grouped in the “Other countries” category. \n",
    "</p>\n",
    "<p>\n",
    "    While analyzing the immigrations, our data is grouped by the origin and the list consists of the following countries: Moldova, Ukraine, Italy, Germany, United States, France, Canada, Hungary, Austria and Israel. The data that we don’t know the origin is grouped in the “Other countries” category. \n",
    "</p>\n",
    "<p>\n",
    "    It can be noticed that the list of countries and the time interval differs between the emigrations and immigrations. This is inherited  from the dataset that we used, which was taken from Romania’s National Institute of Statistics (www.insse.ro).\n",
    "</p>\n",
    "<p>\n",
    "    Some contextual information about the countries involved. GDP per capita can be used as a metric of how well a country is situated economically and as we can see, Romania improves well over time.\n",
    "</p>\n",
    "</div>"
   ]
  },
  {
   "cell_type": "code",
   "execution_count": null,
   "id": "9e1440a7",
   "metadata": {
    "extensions": {
     "jupyter_dashboards": {
      "version": 1,
      "views": {
       "default_view": {
        "col": 6,
        "height": 22,
        "row": 10,
        "width": 6
       }
      }
     }
    }
   },
   "outputs": [],
   "source": [
    "lollipop_fig"
   ]
  },
  {
   "cell_type": "code",
   "execution_count": null,
   "id": "f918c2c2",
   "metadata": {
    "extensions": {
     "jupyter_dashboards": {
      "version": 1,
      "views": {
       "default_view": {
        "col": 0,
        "height": 19,
        "row": 32,
        "width": 12
       }
      }
     }
    }
   },
   "outputs": [],
   "source": [
    "map_figure"
   ]
  },
  {
   "cell_type": "code",
   "execution_count": null,
   "id": "1fe4ffcd",
   "metadata": {
    "extensions": {
     "jupyter_dashboards": {
      "version": 1,
      "views": {
       "default_view": {
        "col": 0,
        "height": 22,
        "row": 10,
        "width": 6
       }
      }
     }
    }
   },
   "outputs": [],
   "source": [
    "gdp_plot"
   ]
  },
  {
   "cell_type": "markdown",
   "id": "679a3169",
   "metadata": {
    "extensions": {
     "jupyter_dashboards": {
      "version": 1,
      "views": {
       "default_view": {
        "col": 0,
        "height": 4,
        "row": 51,
        "width": 12
       }
      }
     }
    }
   },
   "source": [
    "<div style=\"text-align: justify;line-height:1.25;font-size:15px\">\n",
    "<p>\n",
    "    Between 1990 and 2021 in total <b>659,702 persons</b> emigrated from which almost one third (198,644) emigrated to <b>Germany</b>. This is followed by 81,438 emigrants for which we don’t know the exact destination. On the third, forth,  fifth and sixth places we have Italy, United States, Spain and Canada. On the bottom of the list we have Sweden, Greece, Australia, Switzerland and Slovakia.\n",
    "</p>\n",
    "<p>\n",
    "    Between 1994 and 2021 in total <b>527,966 persons</b> immigrated from which more than half (320,571) immigrated from <b>Moldova</b>. This is followed by 107,397 immigrants for which we don’t know the exact origin. On the third, forth, fifth and sixth places we have Ukraine, Italy, Germany and United States. On the bottom of the list we have France, Canada, Hungary, Austria and Israel.\n",
    "</p>\n",
    "</div>"
   ]
  },
  {
   "cell_type": "code",
   "execution_count": null,
   "id": "635b4448",
   "metadata": {
    "extensions": {
     "jupyter_dashboards": {
      "version": 1,
      "views": {
       "default_view": {
        "col": 0,
        "height": 25,
        "row": 55,
        "width": 6
       }
      }
     }
    }
   },
   "outputs": [],
   "source": [
    "emigrants_per_country_plot"
   ]
  },
  {
   "cell_type": "code",
   "execution_count": null,
   "id": "b7fd7cbd",
   "metadata": {
    "extensions": {
     "jupyter_dashboards": {
      "version": 1,
      "views": {
       "default_view": {
        "col": 6,
        "height": 25,
        "row": 55,
        "width": 6
       }
      }
     }
    }
   },
   "outputs": [],
   "source": [
    "immigrants_per_country_plot"
   ]
  },
  {
   "cell_type": "markdown",
   "id": "8dfd1cf2",
   "metadata": {
    "extensions": {
     "jupyter_dashboards": {
      "version": 1,
      "views": {
       "default_view": {
        "col": 0,
        "height": 4,
        "row": 80,
        "width": 12
       }
      }
     }
    }
   },
   "source": [
    "<div style=\"text-align: justify;line-height:1.25;font-size:15px\">\n",
    "<p>\n",
    "    By far the most popular year that Romanian citizens emigrated is <b>1990</b>. In 1990 in total 96,929 persons emigrated (almost 15% of the persons that emigrated between 1990-2021). This is followed by 1991, 2021, 1992 and 2018. The least popular years when Romanian citizens have emigrated is 2001, 2007, 2008, 2002 and 2010.\n",
    "</p>\n",
    "<p>\n",
    "    From immigrations perspective, the most popular year was <b>2018</b> when 65,678 Romanian citizens immigrated. This is followed by 2019, 2017, 2021 and 2014. The least popular years are 2005, 2003, 2004, 1996 and 1994 . \n",
    "</p>\n",
    "</div>"
   ]
  },
  {
   "cell_type": "code",
   "execution_count": null,
   "id": "a093c635",
   "metadata": {
    "extensions": {
     "jupyter_dashboards": {
      "version": 1,
      "views": {
       "default_view": {
        "col": 0,
        "height": 10,
        "row": 84,
        "width": 6
       }
      }
     }
    }
   },
   "outputs": [],
   "source": [
    "emigrants_top_bottom_5_plot"
   ]
  },
  {
   "cell_type": "code",
   "execution_count": null,
   "id": "2f28a6db",
   "metadata": {
    "extensions": {
     "jupyter_dashboards": {
      "version": 1,
      "views": {
       "default_view": {
        "col": 6,
        "height": 10,
        "row": 84,
        "width": 6
       }
      }
     }
    }
   },
   "outputs": [],
   "source": [
    "immigrants_top_bottom_5_plot"
   ]
  },
  {
   "cell_type": "markdown",
   "id": "4458d6ec",
   "metadata": {
    "extensions": {
     "jupyter_dashboards": {
      "version": 1,
      "views": {
       "default_view": {
        "col": 0,
        "height": 3,
        "row": 94,
        "width": 12
       }
      }
     }
    }
   },
   "source": [
    "<div style=\"text-align: justify;line-height:1.25;font-size:15px\">\n",
    "<p>\n",
    "    The emigration trends are varying between countries. For example, Germany, Hungary, US and Australia have their peak in 1990 and from there it exponentially decreases. While Italy and Spain are quite at the opposite and they become more popular destinations over time. Another interesting spike can be seen in 2010 in Israel.</p>\n",
    "<p>\n",
    "From the immigration point of view, for most of the countries the trend is increasing over time, which could mean that as Romania is developing it might become a better place to live (return to).\n",
    "</p>\n",
    "</div>"
   ]
  },
  {
   "cell_type": "code",
   "execution_count": null,
   "id": "06841525",
   "metadata": {
    "extensions": {
     "jupyter_dashboards": {
      "version": 1,
      "views": {
       "default_view": {
        "col": 0,
        "height": 24,
        "row": 97,
        "width": 6
       }
      }
     }
    }
   },
   "outputs": [],
   "source": [
    "emigrants_line_plot"
   ]
  },
  {
   "cell_type": "code",
   "execution_count": null,
   "id": "7817a97a",
   "metadata": {
    "extensions": {
     "jupyter_dashboards": {
      "version": 1,
      "views": {
       "default_view": {
        "col": 6,
        "height": 24,
        "row": 97,
        "width": 6
       }
      }
     }
    }
   },
   "outputs": [],
   "source": [
    "immigrants_line_plot"
   ]
  },
  {
   "cell_type": "markdown",
   "id": "57dc66b0",
   "metadata": {
    "extensions": {
     "jupyter_dashboards": {
      "version": 1,
      "views": {
       "default_view": {
        "col": 0,
        "height": 3,
        "row": 121,
        "width": 12
       }
      }
     }
    }
   },
   "source": [
    "<div style=\"text-align: justify;line-height:1.25;font-size:15px\">\n",
    "<p>\n",
    "    The difference between the number of emigrants and immigrants is quite big prior to 2000. Overtime this difference gets smaller, until 2012 when the immigration’s number gets bigger and it takes the lead since then.</p>\n",
    "</div>"
   ]
  },
  {
   "cell_type": "code",
   "execution_count": null,
   "id": "53aa7608",
   "metadata": {
    "extensions": {
     "jupyter_dashboards": {
      "version": 1,
      "views": {
       "default_view": {
        "col": 0,
        "height": 24,
        "row": 124,
        "width": 12
       }
      }
     }
    }
   },
   "outputs": [],
   "source": [
    "emigrants_immigrants_line_plot"
   ]
  },
  {
   "cell_type": "markdown",
   "id": "27439b9c",
   "metadata": {
    "extensions": {
     "jupyter_dashboards": {
      "version": 1,
      "views": {
       "default_view": {
        "col": 0,
        "height": 2,
        "row": 148,
        "width": 12
       }
      }
     }
    }
   },
   "source": [
    "<div style=\"text-align: justify;line-height:1.5\">\n",
    "<p>\n",
    "    From the race charts it can be seen that ~300k people emigrated before 2000 (which is almost the half of the total people that emigrated between 1990 and 2020) and ~400k people immigrated after 2010 (which is ~75% of the total people that immigrated between 1994 and 2020)\n",
    "</p>\n",
    "</div>"
   ]
  },
  {
   "cell_type": "markdown",
   "id": "02a8b37a",
   "metadata": {
    "extensions": {
     "jupyter_dashboards": {
      "version": 1,
      "views": {
       "default_view": {
        "col": 6,
        "height": 17,
        "row": 150,
        "width": 6
       }
      }
     }
    }
   },
   "source": [
    "<div class=\"flourish-embed flourish-bar-chart-race\" data-src=\"visualisation/12249029\"><script src=\"https://public.flourish.studio/resources/embed.js\"></script></div>"
   ]
  },
  {
   "cell_type": "markdown",
   "id": "0689cfe9",
   "metadata": {
    "extensions": {
     "jupyter_dashboards": {
      "version": 1,
      "views": {
       "default_view": {
        "col": 0,
        "height": 17,
        "row": 150,
        "width": 6
       }
      }
     }
    }
   },
   "source": [
    "<div class=\"flourish-embed flourish-bar-chart-race\" data-src=\"visualisation/12240571\"><script src=\"https://public.flourish.studio/resources/embed.js\"></script></div>"
   ]
  },
  {
   "cell_type": "markdown",
   "id": "436dbfa6",
   "metadata": {
    "extensions": {
     "jupyter_dashboards": {
      "version": 1,
      "views": {
       "default_view": {
        "col": 2,
        "height": 18,
        "row": 167,
        "width": 9
       }
      }
     }
    }
   },
   "source": [
    "<div class=\"flourish-embed flourish-sankey\" data-src=\"visualisation/12173187\"><script src=\"https://public.flourish.studio/resources/embed.js\"></script></div>"
   ]
  },
  {
   "cell_type": "code",
   "execution_count": null,
   "id": "021241ce",
   "metadata": {
    "extensions": {
     "jupyter_dashboards": {
      "version": 1,
      "views": {
       "default_view": {
        "hidden": true
       }
      }
     }
    }
   },
   "outputs": [],
   "source": []
  }
 ],
 "metadata": {
  "extensions": {
   "jupyter_dashboards": {
    "activeView": "default_view",
    "version": 1,
    "views": {
     "default_view": {
      "cellMargin": 10,
      "defaultCellHeight": 40,
      "maxColumns": 12,
      "name": "active_view",
      "type": "grid"
     }
    }
   }
  },
  "kernelspec": {
   "display_name": "Python 3 (ipykernel)",
   "language": "python",
   "name": "python3"
  },
  "language_info": {
   "codemirror_mode": {
    "name": "ipython",
    "version": 3
   },
   "file_extension": ".py",
   "mimetype": "text/x-python",
   "name": "python",
   "nbconvert_exporter": "python",
   "pygments_lexer": "ipython3",
   "version": "3.10.6"
  }
 },
 "nbformat": 4,
 "nbformat_minor": 5
}
